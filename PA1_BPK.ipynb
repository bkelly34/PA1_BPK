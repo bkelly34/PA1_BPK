{
 "cells": [
  {
   "cell_type": "markdown",
   "id": "998f7787-7d1d-4073-91fc-f61c20dad855",
   "metadata": {},
   "source": [
    "# Writing Simple Python Programs\n",
    "---\n",
    "**Author:** Ben Kelly \n",
    "**Version:** 1.0  \n",
    "**Semester:** Spring 2024 "
   ]
  },
  {
   "cell_type": "markdown",
   "id": "46f89fdc-eefa-4f80-be86-35ed79e490b4",
   "metadata": {},
   "source": [
    "### Problem 1 - Manipulating Numbers"
   ]
  },
  {
   "cell_type": "code",
   "execution_count": 1,
   "id": "94ca2e22-ffbf-40a6-9a7f-35b96a23228e",
   "metadata": {
    "tags": []
   },
   "outputs": [
    {
     "name": "stdin",
     "output_type": "stream",
     "text": [
      "Enter a floating point number 44.3\n"
     ]
    }
   ],
   "source": [
    "input_1 = float(input(\"Enter a floating point number\"))"
   ]
  },
  {
   "cell_type": "code",
   "execution_count": 24,
   "id": "fd1359ed-2e93-4506-920b-adda74771706",
   "metadata": {
    "tags": []
   },
   "outputs": [
    {
     "name": "stdin",
     "output_type": "stream",
     "text": [
      "Enter an integer 16\n"
     ]
    }
   ],
   "source": [
    "input_2 = int(input(\"Enter an integer\"))"
   ]
  },
  {
   "cell_type": "code",
   "execution_count": 21,
   "id": "bcf59ac3-f9e4-4779-ae26-a679e7bcb5f6",
   "metadata": {
    "tags": []
   },
   "outputs": [
    {
     "name": "stdout",
     "output_type": "stream",
     "text": [
      "The sum is 60.300.\n"
     ]
    }
   ],
   "source": [
    "result = input_1 + input_2\n",
    "\n",
    "print(f'The sum is {result:.3f}.')"
   ]
  },
  {
   "cell_type": "code",
   "execution_count": 22,
   "id": "7e8b4822-9118-40a2-be7a-b638c4f039a3",
   "metadata": {
    "tags": []
   },
   "outputs": [
    {
     "name": "stdout",
     "output_type": "stream",
     "text": [
      "The difference is 28.300.\n"
     ]
    }
   ],
   "source": [
    "result = input_1 - input_2\n",
    "\n",
    "print(f'The difference is {result:.3f}.')"
   ]
  },
  {
   "cell_type": "code",
   "execution_count": 23,
   "id": "967b588c-342a-4306-a9ed-3d6aa19b0f6f",
   "metadata": {
    "tags": []
   },
   "outputs": [
    {
     "name": "stdout",
     "output_type": "stream",
     "text": [
      "The product is 708.800.\n"
     ]
    }
   ],
   "source": [
    "result = input_1 * input_2\n",
    "\n",
    "print(f'The product is {result:.3f}.')"
   ]
  },
  {
   "cell_type": "code",
   "execution_count": 9,
   "id": "76301100-0f77-48b1-8bb5-9dca7fb30d62",
   "metadata": {
    "tags": []
   },
   "outputs": [
    {
     "name": "stdout",
     "output_type": "stream",
     "text": [
      "The quotient is 2.769.\n"
     ]
    }
   ],
   "source": [
    "result = input_1 / input_2\n",
    "\n",
    "print(f'The quotient is {result:.3f}.')"
   ]
  },
  {
   "cell_type": "code",
   "execution_count": 11,
   "id": "f104e003-6e29-4caf-b546-eecd2cf0ecc9",
   "metadata": {
    "tags": []
   },
   "outputs": [
    {
     "name": "stdout",
     "output_type": "stream",
     "text": [
      "The type for the result is <class 'float'>\n"
     ]
    }
   ],
   "source": [
    "print(\"The type for the result is <class 'float'>\")"
   ]
  },
  {
   "cell_type": "markdown",
   "id": "c8657072-db9a-45f3-a660-406b8ddb6adf",
   "metadata": {
    "tags": []
   },
   "source": [
    "### Problem 2 - Calculating Target Heart Rate"
   ]
  },
  {
   "cell_type": "code",
   "execution_count": 14,
   "id": "d386fe65-b31b-4550-87d0-439bdf1737d3",
   "metadata": {
    "tags": []
   },
   "outputs": [
    {
     "name": "stdin",
     "output_type": "stream",
     "text": [
      "Enter your age 50\n"
     ]
    }
   ],
   "source": [
    "age = int(input(\"Enter your age\"))"
   ]
  },
  {
   "cell_type": "code",
   "execution_count": 16,
   "id": "753bcdb1-7d0f-434f-a6fb-e90ca03ee777",
   "metadata": {
    "tags": []
   },
   "outputs": [
    {
     "name": "stdout",
     "output_type": "stream",
     "text": [
      "Your maximum heart rate is 170.0.\n"
     ]
    }
   ],
   "source": [
    "max_hr = 220 - age\n",
    "\n",
    "print(f'Your maximum heart rate is {max_hr:.1f}.')"
   ]
  },
  {
   "cell_type": "code",
   "execution_count": 18,
   "id": "67a656d5-b9e3-49bb-a812-39f5a0398c18",
   "metadata": {
    "tags": []
   },
   "outputs": [
    {
     "name": "stdout",
     "output_type": "stream",
     "text": [
      "Your upper heart rate limit for exercise is 144.5.\n"
     ]
    }
   ],
   "source": [
    "upper_hr = max_hr * .85\n",
    "\n",
    "print(f'Your upper heart rate limit for exercise is {upper_hr:.1f}.')"
   ]
  },
  {
   "cell_type": "code",
   "execution_count": 20,
   "id": "44c3ad4b-a6b1-49e1-ba82-ac06f097035e",
   "metadata": {
    "tags": []
   },
   "outputs": [
    {
     "name": "stdout",
     "output_type": "stream",
     "text": [
      "Your lower heart rate limit for exercise is 85.0.\n"
     ]
    }
   ],
   "source": [
    "lower_hr = max_hr * .50\n",
    "\n",
    "print(f'Your lower heart rate limit for exercise is {lower_hr:.1f}.')"
   ]
  },
  {
   "cell_type": "code",
   "execution_count": null,
   "id": "913075d2-84ff-4142-9811-fb2ddfb2ce96",
   "metadata": {},
   "outputs": [],
   "source": []
  }
 ],
 "metadata": {
  "kernelspec": {
   "display_name": "Python 3 (ipykernel)",
   "language": "python",
   "name": "python3"
  },
  "language_info": {
   "codemirror_mode": {
    "name": "ipython",
    "version": 3
   },
   "file_extension": ".py",
   "mimetype": "text/x-python",
   "name": "python",
   "nbconvert_exporter": "python",
   "pygments_lexer": "ipython3",
   "version": "3.11.5"
  }
 },
 "nbformat": 4,
 "nbformat_minor": 5
}
